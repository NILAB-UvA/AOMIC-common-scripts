{
 "cells": [
  {
   "cell_type": "code",
   "execution_count": 1,
   "metadata": {},
   "outputs": [],
   "source": [
    "import os.path as op\n",
    "import pandas as pd\n",
    "from glob import glob\n",
    "\n",
    "aparcs = sorted(glob('derivatives/fs_stats/sub*/*desikan*'))\n",
    "dfs = []\n",
    "for f in aparcs:\n",
    "    df = pd.read_csv(f, sep='\\t')\n",
    "    df['participant_id'] = op.basename(op.dirname(f))\n",
    "    dfs.append(df)\n",
    "    \n",
    "df = pd.concat(dfs)\n",
    "df = df.groupby(['participant_id', 'name']).sum().reset_index()\n",
    "df = df.pivot(columns='name', index='participant_id')\n",
    "df.columns = df.columns.get_level_values(0) + '_' + df.columns.get_level_values(1)"
   ]
  }
 ],
 "metadata": {
  "kernelspec": {
   "display_name": "Python 3",
   "language": "python",
   "name": "python3"
  },
  "language_info": {
   "codemirror_mode": {
    "name": "ipython",
    "version": 3
   },
   "file_extension": ".py",
   "mimetype": "text/x-python",
   "name": "python",
   "nbconvert_exporter": "python",
   "pygments_lexer": "ipython3",
   "version": "3.7.3"
  }
 },
 "nbformat": 4,
 "nbformat_minor": 2
}
